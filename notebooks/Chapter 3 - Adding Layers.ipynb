{
 "cells": [
  {
   "cell_type": "code",
   "execution_count": 1,
   "id": "d10af2fc",
   "metadata": {},
   "outputs": [],
   "source": [
    "import numpy as np"
   ]
  },
  {
   "cell_type": "markdown",
   "id": "07d35ffa",
   "metadata": {},
   "source": [
    "## Simple Dot Product On Vectors"
   ]
  },
  {
   "cell_type": "code",
   "execution_count": 2,
   "id": "3695c99f",
   "metadata": {},
   "outputs": [],
   "source": [
    "a = np.array([1,2,3])"
   ]
  },
  {
   "cell_type": "code",
   "execution_count": 3,
   "id": "4cb08b07",
   "metadata": {},
   "outputs": [],
   "source": [
    "b = np.array([4,5,6])"
   ]
  },
  {
   "cell_type": "code",
   "execution_count": 4,
   "id": "8d107a86",
   "metadata": {},
   "outputs": [
    {
     "data": {
      "text/plain": [
       "32"
      ]
     },
     "execution_count": 4,
     "metadata": {},
     "output_type": "execute_result"
    }
   ],
   "source": [
    "np.dot(a, b)"
   ]
  },
  {
   "cell_type": "markdown",
   "id": "4d1bf02c",
   "metadata": {},
   "source": [
    "## Dot Product On Matrices"
   ]
  },
  {
   "cell_type": "code",
   "execution_count": 5,
   "id": "09ab886d",
   "metadata": {},
   "outputs": [
    {
     "data": {
      "text/plain": [
       "array([[110],\n",
       "       [278]])"
      ]
     },
     "execution_count": 5,
     "metadata": {},
     "output_type": "execute_result"
    }
   ],
   "source": [
    "np.dot(\n",
    "    np.array([\n",
    "        [1, 2, 3, 4],\n",
    "        [5, 6, 7, 8]\n",
    "    ]),\n",
    "    np.array([\n",
    "        [9],\n",
    "        [10],\n",
    "        [11],\n",
    "        [12]\n",
    "    ])\n",
    ")"
   ]
  },
  {
   "cell_type": "markdown",
   "id": "8ddd9fe3",
   "metadata": {},
   "source": [
    "## Training in batches "
   ]
  },
  {
   "cell_type": "code",
   "execution_count": 6,
   "id": "b589316a",
   "metadata": {},
   "outputs": [
    {
     "data": {
      "text/plain": [
       "array([[11.5 ,  7.15,  3.45],\n",
       "       [10.6 ,  7.76,  8.52]])"
      ]
     },
     "execution_count": 6,
     "metadata": {},
     "output_type": "execute_result"
    }
   ],
   "source": [
    "# 4 input neurons in the first layer - 2 samples\n",
    "inputs = [\n",
    "    [1, 2, 2.5, 0.5],\n",
    "    [0.1, 2, 3, 2.2]\n",
    "]\n",
    "\n",
    "# 3 neurons in hidden layer - each row connects back to the original 4 input neurons\n",
    "weights = [\n",
    "    [2, 4, 0.1, 0.5],\n",
    "    [1, 0.5, 2, 0.3],\n",
    "    [0.2, 2, 0.3, 3]\n",
    "]\n",
    "\n",
    "# Each neuron has a bias\n",
    "bias = [1, 0, -3]\n",
    "\n",
    "layer1_outputs = np.dot(np.array(inputs), np.array(weights).T) + bias\n",
    "layer1_outputs"
   ]
  },
  {
   "cell_type": "code",
   "execution_count": 7,
   "id": "fb7a7590",
   "metadata": {},
   "outputs": [],
   "source": [
    "weights2 = [\n",
    "    []\n",
    "]"
   ]
  }
 ],
 "metadata": {
  "kernelspec": {
   "display_name": "ml",
   "language": "python",
   "name": "ml"
  },
  "language_info": {
   "codemirror_mode": {
    "name": "ipython",
    "version": 3
   },
   "file_extension": ".py",
   "mimetype": "text/x-python",
   "name": "python",
   "nbconvert_exporter": "python",
   "pygments_lexer": "ipython3",
   "version": "3.8.10"
  }
 },
 "nbformat": 4,
 "nbformat_minor": 5
}
